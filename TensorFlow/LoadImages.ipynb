{
 "cells": [
  {
   "cell_type": "markdown",
   "id": "657cd238",
   "metadata": {},
   "source": [
    "# 1. Importar librerías"
   ]
  },
  {
   "cell_type": "code",
   "execution_count": 1,
   "id": "09c5fe44",
   "metadata": {},
   "outputs": [
    {
     "name": "stdout",
     "output_type": "stream",
     "text": [
      "Collecting opencv-python\n",
      "  Using cached opencv_python-4.6.0.66-cp36-abi3-win_amd64.whl (35.6 MB)\n",
      "Collecting numpy>=1.21.2\n",
      "  Using cached numpy-1.23.4-cp310-cp310-win_amd64.whl (14.6 MB)\n",
      "Installing collected packages: numpy, opencv-python\n",
      "Successfully installed numpy-1.23.4 opencv-python-4.6.0.66\n"
     ]
    },
    {
     "name": "stderr",
     "output_type": "stream",
     "text": [
      "\n",
      "[notice] A new release of pip available: 22.2.2 -> 22.3\n",
      "[notice] To update, run: python.exe -m pip install --upgrade pip\n"
     ]
    }
   ],
   "source": [
    "!pip install opencv-python # Abrir la vision de la computadora"
   ]
  },
  {
   "cell_type": "code",
   "execution_count": 1,
   "id": "c23881b5",
   "metadata": {},
   "outputs": [],
   "source": [
    "# Import opencv\n",
    "import cv2 \n",
    "\n",
    "# Import uuid\n",
    "import uuid\n",
    "\n",
    "# Import Operating System\n",
    "import os\n",
    "\n",
    "# Import time\n",
    "import time"
   ]
  },
  {
   "cell_type": "markdown",
   "id": "227974e4",
   "metadata": {},
   "source": [
    "# 2. Definicion de imagenes a colleccionar\n",
    "Primero iniciamos con los nombres de las carpetas donde vamos a guardar las imagenes y luego con la cantidad de fotos por carpeta."
   ]
  },
  {
   "cell_type": "code",
   "execution_count": 2,
   "id": "a06a7500",
   "metadata": {},
   "outputs": [],
   "source": [
    "labels = [\"powerPlayRed\", \"powerPlayWhite\"]\n",
    "imgs_num = 30"
   ]
  },
  {
   "cell_type": "markdown",
   "id": "5ccb79df",
   "metadata": {},
   "source": [
    "# 3. Configurar los folders\n",
    "Esto servirá para tener un path predilecto donde van a ir las imagenes."
   ]
  },
  {
   "cell_type": "code",
   "execution_count": 3,
   "id": "ad9f6c9f",
   "metadata": {},
   "outputs": [],
   "source": [
    "PATH = os.path.join('WorkSpace', 'Images', 'CollectedImages')"
   ]
  },
  {
   "cell_type": "markdown",
   "id": "1c32b99c",
   "metadata": {},
   "source": [
    "## Opcional: Ver dispositivos\n",
    "Esta parte del código es para ver que puertos están activos con cámaras. Puede ser que un puerto para la cámara esté activo, pero no esté leyendo los datos.\n",
    "\n",
    "Fuente: https://stackoverflow.com/questions/57577445/list-available-cameras-opencv-python"
   ]
  },
  {
   "cell_type": "code",
   "execution_count": 6,
   "id": "ce071816",
   "metadata": {},
   "outputs": [],
   "source": [
    "# Test the ports and returns a tuple with the available ports and the ones that are working.\n",
    "def check_ports():\n",
    "    is_working = True\n",
    "    dev_port = 0\n",
    "    working_ports = []\n",
    "    available_ports = []\n",
    "    while is_working:\n",
    "        camera = cv2.VideoCapture(dev_port)\n",
    "        if not camera.isOpened():\n",
    "            is_working = False\n",
    "            print(\"Port %s is not working.\" %dev_port)\n",
    "        else:\n",
    "            is_reading, img = camera.read()\n",
    "            w = camera.get(3)\n",
    "            h = camera.get(4)\n",
    "            if is_reading:\n",
    "                print(\"Port %s is working and reads images (%s x %s)\" %(dev_port,h,w))\n",
    "                working_ports.append(dev_port)\n",
    "            else:\n",
    "                print(\"Port %s for camera ( %s x %s) is present but does not reads.\" %(dev_port,h,w))\n",
    "                available_ports.append(dev_port)\n",
    "        dev_port +=1\n",
    "    return available_ports,working_ports"
   ]
  },
  {
   "cell_type": "code",
   "execution_count": 7,
   "id": "54b1ae95",
   "metadata": {},
   "outputs": [
    {
     "name": "stdout",
     "output_type": "stream",
     "text": [
      "Port 0 is working and reads images (480.0 x 640.0)\n",
      "Port 1 is not working.\n"
     ]
    },
    {
     "data": {
      "text/plain": [
       "([], [0])"
      ]
     },
     "execution_count": 7,
     "metadata": {},
     "output_type": "execute_result"
    }
   ],
   "source": [
    "check_ports()"
   ]
  },
  {
   "cell_type": "code",
   "execution_count": 8,
   "id": "5969aad9",
   "metadata": {},
   "outputs": [],
   "source": [
    "PORT = 0\n",
    "cam = cv2.VideoCapture(PORT)\n",
    "\n",
    "while True:\n",
    "    ret, frame = cam.read()\n",
    "\n",
    "    cv2.imshow('prueba', frame)\n",
    "\n",
    "    key = cv2.waitKey(1)\n",
    "    if key == 27: # ESC KEY\n",
    "        break\n",
    "\n",
    "cam.release()\n",
    "cv2.destroyAllWindows()"
   ]
  },
  {
   "cell_type": "markdown",
   "id": "b865df37",
   "metadata": {},
   "source": [
    "# 4. Guardar imagenes"
   ]
  },
  {
   "cell_type": "code",
   "execution_count": 12,
   "id": "57bf9da4",
   "metadata": {},
   "outputs": [
    {
     "name": "stdout",
     "output_type": "stream",
     "text": [
      "Port 0 is working and reads images (480.0 x 640.0)\n",
      "Port 1 is not working.\n",
      "0\n"
     ]
    }
   ],
   "source": [
    "ID_CAMARA = check_ports()[1][0]\n",
    "# print(ID_CAMARA)\n",
    "for label in labels:\n",
    "    cam = cv2.VideoCapture(ID_CAMARA)\n",
    "    print(\"Imagenes para {}\".format(label))\n",
    "    time.sleep(5) # Se espera 5 segundos para cambiar de objeto\n",
    "    for i in range(imgs_num):\n",
    "        print(\"Tomando imagen {}\".format(i+1))\n",
    "        ret,frame = cam.read()\n",
    "        imgname = os.path.join(IMAGES_PATH,label,label+'.'+'{}.jpg'.format(str(uuid.uuid1()))) # Genera id unica\n",
    "        cv2.imwrite(imgname, frame)\n",
    "        cv2.show(\"imagen {}\".format(i+1), frame)\n",
    "        key = cv2.waitKey(1)\n",
    "        if key == 27:\n",
    "            break\n",
    "cam.release()\n",
    "cv2.destroyAllWindows()"
   ]
  }
 ],
 "metadata": {
  "kernelspec": {
   "display_name": "tfod",
   "language": "python",
   "name": "tfod"
  },
  "language_info": {
   "codemirror_mode": {
    "name": "ipython",
    "version": 3
   },
   "file_extension": ".py",
   "mimetype": "text/x-python",
   "name": "python",
   "nbconvert_exporter": "python",
   "pygments_lexer": "ipython3",
   "version": "3.10.7"
  }
 },
 "nbformat": 4,
 "nbformat_minor": 5
}
